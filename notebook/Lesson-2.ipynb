{
 "cells": [
  {
   "cell_type": "markdown",
   "metadata": {},
   "source": [
    "1. Реализовать скрипт для чтения/записи данных в формате csv;\n",
    "2. Реализовать скрипт для чтения/записи данных в формате json;\n",
    "3. Реализовать скрипт для чтения/записи данных в формате yaml;"
   ]
  },
  {
   "cell_type": "code",
   "execution_count": 6,
   "metadata": {},
   "outputs": [
    {
     "name": "stdout",
     "output_type": "stream",
     "text": [
      "['header1', 'header2', 'header3', 'header4']\n",
      "[]\n",
      "['data1', 'data2', 'data3', 'data4']\n",
      "[]\n",
      "['data1', 'data2', 'data3', 'data4']\n",
      "[]\n",
      "['data1', 'data2', 'data3', 'data4']\n",
      "[]\n",
      "['data1', 'data2', 'data3', 'data4']\n",
      "[]\n",
      "['data1', 'data2', 'data3', 'data4']\n",
      "[]\n",
      "['data1', 'data2', 'data3', 'data4']\n",
      "[]\n",
      "['data1', 'data2', 'data3', 'data4']\n",
      "[]\n",
      "['data1', 'data2', 'data3', 'data4']\n",
      "[]\n"
     ]
    }
   ],
   "source": [
    "import csv\n",
    "import json\n",
    "import yaml\n",
    "\n",
    "data =  [\n",
    "    ['header1', 'header2', 'header3', 'header4'],\n",
    "    ['data1', 'data2', 'data3', 'data4'],\n",
    "    ['data1', 'data2', 'data3', 'data4'],\n",
    "    ['data1', 'data2', 'data3', 'data4'],\n",
    "    ['data1', 'data2', 'data3', 'data4'],\n",
    "    ['data1', 'data2', 'data3', 'data4'],\n",
    "    ['data1', 'data2', 'data3', 'data4'],\n",
    "    ['data1', 'data2', 'data3', 'data4'],\n",
    "    ['data1', 'data2', 'data3', 'data4'],\n",
    "]\n",
    "\n",
    "with open('data/wr.csv', 'w') as file:\n",
    "    writer = csv.writer(file)\n",
    "    for row in data:\n",
    "        writer.writerow(row)\n",
    "\n",
    "with open('data/wr.csv') as file:\n",
    "    reader = csv.reader(file)\n",
    "    for row in reader:\n",
    "        print(row)\n"
   ]
  },
  {
   "cell_type": "markdown",
   "metadata": {},
   "source": [
    "4. Реализовать скрипт для преобразования данных в формате csv в формат json;\n",
    "5. Реализовать скрипт для преобразования данных в формате csv в формат yaml;\n",
    "6. Реализовать скрипт для преобразования данных в формате json в формат yaml."
   ]
  },
  {
   "cell_type": "code",
   "execution_count": null,
   "metadata": {},
   "outputs": [],
   "source": [
    "import csv\n",
    "import json\n",
    "import yaml"
   ]
  }
 ],
 "metadata": {
  "kernelspec": {
   "display_name": "Python 3",
   "language": "python",
   "name": "python3"
  },
  "language_info": {
   "codemirror_mode": {
    "name": "ipython",
    "version": 3
   },
   "file_extension": ".py",
   "mimetype": "text/x-python",
   "name": "python",
   "nbconvert_exporter": "python",
   "pygments_lexer": "ipython3",
   "version": "3.7.1"
  }
 },
 "nbformat": 4,
 "nbformat_minor": 2
}
