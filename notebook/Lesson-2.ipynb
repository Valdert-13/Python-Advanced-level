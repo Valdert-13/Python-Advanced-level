{
 "cells": [
  {
   "cell_type": "markdown",
   "metadata": {},
   "source": [
    "1. Реализовать скрипт для чтения/записи данных в формате csv;"
   ]
  },
  {
   "cell_type": "code",
   "execution_count": 1,
   "metadata": {},
   "outputs": [
    {
     "name": "stdout",
     "output_type": "stream",
     "text": [
      "[['header1', 'header2', 'header3', 'header4'],\n",
      " ['data1', 'data2', 'data3', 'data4'],\n",
      " ['data1', 'data2', 'data3', 'data4'],\n",
      " ['data1', 'data2', 'data3', 'data4'],\n",
      " ['data1', 'data2', 'data3', 'data4'],\n",
      " ['data1', 'data2', 'data3', 'data4'],\n",
      " ['data1', 'data2', 'data3', 'data4'],\n",
      " ['data1', 'data2', 'data3', 'data4'],\n",
      " ['data1', 'data2', 'data3', 'data4']]\n"
     ]
    }
   ],
   "source": [
    "import csv\n",
    "from pprint import pprint\n",
    "\n",
    "data = [\n",
    "    ['header1', 'header2', 'header3', 'header4'],\n",
    "    ['data1', 'data2', 'data3', 'data4'],\n",
    "    ['data1', 'data2', 'data3', 'data4'],\n",
    "    ['data1', 'data2', 'data3', 'data4'],\n",
    "    ['data1', 'data2', 'data3', 'data4'],\n",
    "    ['data1', 'data2', 'data3', 'data4'],\n",
    "    ['data1', 'data2', 'data3', 'data4'],\n",
    "    ['data1', 'data2', 'data3', 'data4'],\n",
    "    ['data1', 'data2', 'data3', 'data4']]\n",
    "\n",
    "with open('data/wr.csv', 'r+', newline='') as file:\n",
    "    writer = csv.writer(file)\n",
    "    for row in data:\n",
    "        writer.writerow(row)\n",
    "    \n",
    "with open('data/wr.csv', newline='', encoding='utf-8') as file:\n",
    "    reader = csv.reader(file, delimiter=',')\n",
    "    try:\n",
    "        data_read = [row for row in reader]\n",
    "    except csv.Error as e:\n",
    "        sys.exit('file {}, line {}: {}'.format(filename, reader.line_num, e))\n",
    "pprint(data_read)\n"
   ]
  },
  {
   "cell_type": "markdown",
   "metadata": {},
   "source": [
    "2. Реализовать скрипт для чтения/записи данных в формате json;"
   ]
  },
  {
   "cell_type": "code",
   "execution_count": 2,
   "metadata": {},
   "outputs": [
    {
     "name": "stdout",
     "output_type": "stream",
     "text": [
      "[['header1', 'header2', 'header3', 'header4'],\n",
      " ['data1', 'data2', 'data3', 'data4'],\n",
      " ['data1', 'data2', 'data3', 'data4'],\n",
      " ['data1', 'data2', 'data3', 'data4'],\n",
      " ['data1', 'data2', 'data3', 'data4'],\n",
      " ['data1', 'data2', 'data3', 'data4'],\n",
      " ['data1', 'data2', 'data3', 'data4'],\n",
      " ['data1', 'data2', 'data3', 'data4'],\n",
      " ['data1', 'data2', 'data3', 'data4']]\n"
     ]
    }
   ],
   "source": [
    "import json\n",
    "from pprint import pprint\n",
    "\n",
    "data =  [\n",
    "    ['header1', 'header2', 'header3', 'header4'],\n",
    "    ['data1', 'data2', 'data3', 'data4'],\n",
    "    ['data1', 'data2', 'data3', 'data4'],\n",
    "    ['data1', 'data2', 'data3', 'data4'],\n",
    "    ['data1', 'data2', 'data3', 'data4'],\n",
    "    ['data1', 'data2', 'data3', 'data4'],\n",
    "    ['data1', 'data2', 'data3', 'data4'],\n",
    "    ['data1', 'data2', 'data3', 'data4'],\n",
    "    ['data1', 'data2', 'data3', 'data4'],\n",
    "]\n",
    "\n",
    "with open('data/wr.json', 'w') as file:\n",
    "    json.dump(data, file, ensure_ascii=False, indent=4)\n",
    "    \n",
    "with open('data/wr.json') as file:\n",
    "    try:\n",
    "        data_load = json.load(file)\n",
    "    except csv.Error as e:\n",
    "        sys.exit('file {}, line {}: {}'.format(filename, reader.line_num, e))\n",
    "pprint(data_load)"
   ]
  },
  {
   "cell_type": "markdown",
   "metadata": {},
   "source": [
    "3. Реализовать скрипт для чтения/записи данных в формате yaml;"
   ]
  },
  {
   "cell_type": "code",
   "execution_count": 3,
   "metadata": {},
   "outputs": [
    {
     "name": "stdout",
     "output_type": "stream",
     "text": [
      "[['header1', 'header2', 'header3', 'header4'],\n",
      " ['data1', 'data2', 'data3', 'data4'],\n",
      " ['data1', 'data2', 'data3', 'data4'],\n",
      " ['data1', 'data2', 'data3', 'data4'],\n",
      " ['data1', 'data2', 'data3', 'data4'],\n",
      " ['data1', 'data2', 'data3', 'data4'],\n",
      " ['data1', 'data2', 'data3', 'data4'],\n",
      " ['data1', 'data2', 'data3', 'data4'],\n",
      " ['data1', 'data2', 'data3', 'data4']]\n"
     ]
    }
   ],
   "source": [
    "import yaml\n",
    "from pprint import pprint\n",
    "\n",
    "data =  [\n",
    "    ['header1', 'header2', 'header3', 'header4'],\n",
    "    ['data1', 'data2', 'data3', 'data4'],\n",
    "    ['data1', 'data2', 'data3', 'data4'],\n",
    "    ['data1', 'data2', 'data3', 'data4'],\n",
    "    ['data1', 'data2', 'data3', 'data4'],\n",
    "    ['data1', 'data2', 'data3', 'data4'],\n",
    "    ['data1', 'data2', 'data3', 'data4'],\n",
    "    ['data1', 'data2', 'data3', 'data4'],\n",
    "    ['data1', 'data2', 'data3', 'data4'],\n",
    "]\n",
    "\n",
    "with open('data/wr.yml', 'w') as file:\n",
    "    yaml.dump(data, file, Dumper=yaml.Dumper)\n",
    "    \n",
    "with open('data/wr.yml') as file:\n",
    "    data_yaml = yaml.safe_load(file)\n",
    "    pprint(data_yaml)"
   ]
  },
  {
   "cell_type": "markdown",
   "metadata": {},
   "source": [
    "4. Реализовать скрипт для преобразования данных в формате csv в формат json;"
   ]
  },
  {
   "cell_type": "code",
   "execution_count": 4,
   "metadata": {},
   "outputs": [
    {
     "name": "stdout",
     "output_type": "stream",
     "text": [
      "[['header1', 'header2', 'header3', 'header4'],\n",
      " ['data1', 'data2', 'data3', 'data4'],\n",
      " ['data1', 'data2', 'data3', 'data4'],\n",
      " ['data1', 'data2', 'data3', 'data4'],\n",
      " ['data1', 'data2', 'data3', 'data4'],\n",
      " ['data1', 'data2', 'data3', 'data4'],\n",
      " ['data1', 'data2', 'data3', 'data4'],\n",
      " ['data1', 'data2', 'data3', 'data4'],\n",
      " ['data1', 'data2', 'data3', 'data4']]\n"
     ]
    }
   ],
   "source": [
    "import csv\n",
    "import json\n",
    "from pprint import pprint\n",
    "\n",
    "with open('data/wr.csv', newline='', encoding='utf-8') as file_csv:\n",
    "    reader = csv.reader(file_csv, delimiter=',')\n",
    "    data_read = [row for row in reader]\n",
    "    with open('data/file.json', 'w') as file_json:\n",
    "        json.dump(data_read, file_json, ensure_ascii=False, indent=4)\n",
    "with open('data/file.json') as file_json:\n",
    "    data_load_json = json.load(file_json)\n",
    "pprint(data_load_json)"
   ]
  },
  {
   "cell_type": "markdown",
   "metadata": {},
   "source": [
    "5. Реализовать скрипт для преобразования данных в формате csv в формат yaml;"
   ]
  },
  {
   "cell_type": "code",
   "execution_count": 5,
   "metadata": {},
   "outputs": [
    {
     "name": "stdout",
     "output_type": "stream",
     "text": [
      "[['header1', 'header2', 'header3', 'header4'],\n",
      " ['data1', 'data2', 'data3', 'data4'],\n",
      " ['data1', 'data2', 'data3', 'data4'],\n",
      " ['data1', 'data2', 'data3', 'data4'],\n",
      " ['data1', 'data2', 'data3', 'data4'],\n",
      " ['data1', 'data2', 'data3', 'data4'],\n",
      " ['data1', 'data2', 'data3', 'data4'],\n",
      " ['data1', 'data2', 'data3', 'data4'],\n",
      " ['data1', 'data2', 'data3', 'data4']]\n"
     ]
    }
   ],
   "source": [
    "import csv\n",
    "import yaml\n",
    "from pprint import pprint\n",
    "\n",
    "with open('data/wr.csv', newline='', encoding='utf-8') as file_csv:\n",
    "    reader = csv.reader(file_csv, delimiter=',')\n",
    "    data_read = [row for row in reader]\n",
    "    with open('data/file.yaml', 'w') as file_yaml:\n",
    "        yaml.dump(data_read, file_yaml, Dumper=yaml.Dumper)\n",
    "with open('data/file.yaml') as file_yaml:\n",
    "    data_load_yaml = yaml.safe_load(file_yaml)\n",
    "pprint(data_load_yaml)"
   ]
  },
  {
   "cell_type": "markdown",
   "metadata": {},
   "source": [
    "6. Реализовать скрипт для преобразования данных в формате json в формат yaml."
   ]
  },
  {
   "cell_type": "code",
   "execution_count": 6,
   "metadata": {},
   "outputs": [
    {
     "name": "stdout",
     "output_type": "stream",
     "text": [
      "[['header1', 'header2', 'header3', 'header4'],\n",
      " ['data1', 'data2', 'data3', 'data4'],\n",
      " ['data1', 'data2', 'data3', 'data4'],\n",
      " ['data1', 'data2', 'data3', 'data4'],\n",
      " ['data1', 'data2', 'data3', 'data4'],\n",
      " ['data1', 'data2', 'data3', 'data4'],\n",
      " ['data1', 'data2', 'data3', 'data4'],\n",
      " ['data1', 'data2', 'data3', 'data4'],\n",
      " ['data1', 'data2', 'data3', 'data4']]\n"
     ]
    }
   ],
   "source": [
    "import json\n",
    "import yaml\n",
    "from pprint import pprint\n",
    "\n",
    "with open('data/wr.json') as file:\n",
    "    data_load = json.load(file)\n",
    "    with open('data/file_json_yaml.yaml', 'w') as file_yaml:\n",
    "        yaml.dump(data_load, file_yaml, Dumper=yaml.Dumper)\n",
    "with open('data/file_json_yaml.yaml') as file_yaml:\n",
    "    data_load_yaml = yaml.safe_load(file_yaml)\n",
    "pprint(data_load_yaml)"
   ]
  },
  {
   "cell_type": "code",
   "execution_count": null,
   "metadata": {},
   "outputs": [],
   "source": []
  }
 ],
 "metadata": {
  "kernelspec": {
   "display_name": "Python 3",
   "language": "python",
   "name": "python3"
  },
  "language_info": {
   "codemirror_mode": {
    "name": "ipython",
    "version": 3
   },
   "file_extension": ".py",
   "mimetype": "text/x-python",
   "name": "python",
   "nbconvert_exporter": "python",
   "pygments_lexer": "ipython3",
   "version": "3.6.5"
  }
 },
 "nbformat": 4,
 "nbformat_minor": 2
}
