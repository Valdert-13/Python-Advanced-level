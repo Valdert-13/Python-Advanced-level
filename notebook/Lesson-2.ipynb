{
 "cells": [
  {
   "cell_type": "markdown",
   "metadata": {},
   "source": [
    "1. Реализовать скрипт для чтения/записи данных в формате csv;\n",
    "2. Реализовать скрипт для чтения/записи данных в формате json;\n",
    "3. Реализовать скрипт для чтения/записи данных в формате yaml;"
   ]
  },
  {
   "cell_type": "code",
   "execution_count": 54,
   "metadata": {},
   "outputs": [
    {
     "name": "stdout",
     "output_type": "stream",
     "text": [
      "[['header1', 'header2', 'header3', 'header4'],\n",
      " ['data1', 'data2', 'data3', 'data4'],\n",
      " ['data1', 'data2', 'data3', 'data4'],\n",
      " ['data1', 'data2', 'data3', 'data4'],\n",
      " ['data1', 'data2', 'data3', 'data4'],\n",
      " ['data1', 'data2', 'data3', 'data4'],\n",
      " ['data1', 'data2', 'data3', 'data4'],\n",
      " ['data1', 'data2', 'data3', 'data4'],\n",
      " ['data1', 'data2', 'data3', 'data4']]\n"
     ]
    }
   ],
   "source": [
    "import csv\n",
    "from pprint import pprint\n",
    "\n",
    "data = [\n",
    "    ['header1', 'header2', 'header3', 'header4'],\n",
    "    ['data1', 'data2', 'data3', 'data4'],\n",
    "    ['data1', 'data2', 'data3', 'data4'],\n",
    "    ['data1', 'data2', 'data3', 'data4'],\n",
    "    ['data1', 'data2', 'data3', 'data4'],\n",
    "    ['data1', 'data2', 'data3', 'data4'],\n",
    "    ['data1', 'data2', 'data3', 'data4'],\n",
    "    ['data1', 'data2', 'data3', 'data4'],\n",
    "    ['data1', 'data2', 'data3', 'data4']]\n",
    "\n",
    "with open('data/wr.csv', 'r+', newline='') as file:\n",
    "    writer = csv.writer(file)\n",
    "    for row in data:\n",
    "        writer.writerow(row)\n",
    "    \n",
    "with open('data/wr.csv', newline='', encoding='utf-8') as file:\n",
    "    reader = csv.reader(file, delimiter=',')\n",
    "    try:\n",
    "        data_read = [row for row in reader]\n",
    "    except csv.Error as e:\n",
    "        sys.exit('file {}, line {}: {}'.format(filename, reader.line_num, e))\n",
    "pprint(data_read)\n"
   ]
  },
  {
   "cell_type": "code",
   "execution_count": 55,
   "metadata": {},
   "outputs": [
    {
     "name": "stdout",
     "output_type": "stream",
     "text": [
      "[['header1', 'header2', 'header3', 'header4'],\n",
      " ['data1', 'data2', 'data3', 'data4'],\n",
      " ['data1', 'data2', 'data3', 'data4'],\n",
      " ['data1', 'data2', 'data3', 'data4'],\n",
      " ['data1', 'data2', 'data3', 'data4'],\n",
      " ['data1', 'data2', 'data3', 'data4'],\n",
      " ['data1', 'data2', 'data3', 'data4'],\n",
      " ['data1', 'data2', 'data3', 'data4'],\n",
      " ['data1', 'data2', 'data3', 'data4']]\n"
     ]
    }
   ],
   "source": [
    "import json\n",
    "from pprint import pprint\n",
    "\n",
    "data =  [\n",
    "    ['header1', 'header2', 'header3', 'header4'],\n",
    "    ['data1', 'data2', 'data3', 'data4'],\n",
    "    ['data1', 'data2', 'data3', 'data4'],\n",
    "    ['data1', 'data2', 'data3', 'data4'],\n",
    "    ['data1', 'data2', 'data3', 'data4'],\n",
    "    ['data1', 'data2', 'data3', 'data4'],\n",
    "    ['data1', 'data2', 'data3', 'data4'],\n",
    "    ['data1', 'data2', 'data3', 'data4'],\n",
    "    ['data1', 'data2', 'data3', 'data4'],\n",
    "]\n",
    "\n",
    "with open('data/wr.json', 'w') as file:\n",
    "    json.dump(data, file, ensure_ascii=False, indent=4)\n",
    "    \n",
    "with open('data/wr.json') as file:\n",
    "    try:\n",
    "        data_load = json.load(file)\n",
    "    except csv.Error as e:\n",
    "        sys.exit('file {}, line {}: {}'.format(filename, reader.line_num, e))\n",
    "pprint(data_load)"
   ]
  },
  {
   "cell_type": "code",
   "execution_count": 58,
   "metadata": {},
   "outputs": [
    {
     "name": "stdout",
     "output_type": "stream",
     "text": [
      "[['header1', 'header2', 'header3', 'header4'],\n",
      " ['data1', 'data2', 'data3', 'data4'],\n",
      " ['data1', 'data2', 'data3', 'data4'],\n",
      " ['data1', 'data2', 'data3', 'data4'],\n",
      " ['data1', 'data2', 'data3', 'data4'],\n",
      " ['data1', 'data2', 'data3', 'data4'],\n",
      " ['data1', 'data2', 'data3', 'data4'],\n",
      " ['data1', 'data2', 'data3', 'data4'],\n",
      " ['data1', 'data2', 'data3', 'data4']]\n"
     ]
    }
   ],
   "source": [
    "import yaml\n",
    "from pprint import pprint\n",
    "\n",
    "data =  [\n",
    "    ['header1', 'header2', 'header3', 'header4'],\n",
    "    ['data1', 'data2', 'data3', 'data4'],\n",
    "    ['data1', 'data2', 'data3', 'data4'],\n",
    "    ['data1', 'data2', 'data3', 'data4'],\n",
    "    ['data1', 'data2', 'data3', 'data4'],\n",
    "    ['data1', 'data2', 'data3', 'data4'],\n",
    "    ['data1', 'data2', 'data3', 'data4'],\n",
    "    ['data1', 'data2', 'data3', 'data4'],\n",
    "    ['data1', 'data2', 'data3', 'data4'],\n",
    "]\n",
    "\n",
    "with open('data/wr.yml', 'w') as file:\n",
    "    yaml.dump(data, file, Dumper=yaml.Dumper)\n",
    "    \n",
    "with open('data/wr.yml') as file:\n",
    "    data_yaml = yaml.safe_load(file)\n",
    "    pprint(data_yaml)"
   ]
  },
  {
   "cell_type": "markdown",
   "metadata": {},
   "source": [
    "4. Реализовать скрипт для преобразования данных в формате csv в формат json;\n",
    "5. Реализовать скрипт для преобразования данных в формате csv в формат yaml;\n",
    "6. Реализовать скрипт для преобразования данных в формате json в формат yaml."
   ]
  },
  {
   "cell_type": "code",
   "execution_count": null,
   "metadata": {},
   "outputs": [],
   "source": [
    "import csv\n",
    "import json\n",
    "import yaml"
   ]
  }
 ],
 "metadata": {
  "kernelspec": {
   "display_name": "Python 3",
   "language": "python",
   "name": "python3"
  },
  "language_info": {
   "codemirror_mode": {
    "name": "ipython",
    "version": 3
   },
   "file_extension": ".py",
   "mimetype": "text/x-python",
   "name": "python",
   "nbconvert_exporter": "python",
   "pygments_lexer": "ipython3",
   "version": "3.7.1"
  }
 },
 "nbformat": 4,
 "nbformat_minor": 2
}
