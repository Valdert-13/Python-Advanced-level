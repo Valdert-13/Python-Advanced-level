{
 "cells": [
  {
   "cell_type": "markdown",
   "metadata": {},
   "source": [
    "# 1. Реализовать приведение строк \"разработка\", \"сокет\", \"декоратор\" к типу bytes используя нативные методы строк;\n",
    "# 2. Реализовать приведение полученных экземпляров типа bytes к типу str;\n",
    "# 3. Реализовать приведение полученных строк и байтовых последовательностей с использование различных кодировок utf-8 latin-1."
   ]
  },
  {
   "cell_type": "code",
   "execution_count": 1,
   "metadata": {},
   "outputs": [],
   "source": [
    "code = ['utf-8', 'latin-1']\n",
    "list, bytes_list = [\"разработка\", \"сокет\", \"декоратор\"], []\n",
    "list1 = [\"development\", \"socket\", \"decorator\"]\n",
    "def cod (a, list):\n",
    "    for i in list:\n",
    "        print (i,  ':', i.encode(code[a]))\n",
    "        bytes_list.append(i.encode(code[a]))\n",
    "    print('\\n')\n",
    "    for i in bytes_list:\n",
    "        print (i,  ':', i.decode(code[a]))\n",
    "    #bytes_list.clear()"
   ]
  },
  {
   "cell_type": "code",
   "execution_count": 2,
   "metadata": {},
   "outputs": [
    {
     "name": "stdout",
     "output_type": "stream",
     "text": [
      "разработка : b'\\xd1\\x80\\xd0\\xb0\\xd0\\xb7\\xd1\\x80\\xd0\\xb0\\xd0\\xb1\\xd0\\xbe\\xd1\\x82\\xd0\\xba\\xd0\\xb0'\n",
      "сокет : b'\\xd1\\x81\\xd0\\xbe\\xd0\\xba\\xd0\\xb5\\xd1\\x82'\n",
      "декоратор : b'\\xd0\\xb4\\xd0\\xb5\\xd0\\xba\\xd0\\xbe\\xd1\\x80\\xd0\\xb0\\xd1\\x82\\xd0\\xbe\\xd1\\x80'\n",
      "\n",
      "\n",
      "b'\\xd1\\x80\\xd0\\xb0\\xd0\\xb7\\xd1\\x80\\xd0\\xb0\\xd0\\xb1\\xd0\\xbe\\xd1\\x82\\xd0\\xba\\xd0\\xb0' : разработка\n",
      "b'\\xd1\\x81\\xd0\\xbe\\xd0\\xba\\xd0\\xb5\\xd1\\x82' : сокет\n",
      "b'\\xd0\\xb4\\xd0\\xb5\\xd0\\xba\\xd0\\xbe\\xd1\\x80\\xd0\\xb0\\xd1\\x82\\xd0\\xbe\\xd1\\x80' : декоратор\n"
     ]
    }
   ],
   "source": [
    "cod(0, list)"
   ]
  },
  {
   "cell_type": "code",
   "execution_count": 3,
   "metadata": {},
   "outputs": [
    {
     "name": "stdout",
     "output_type": "stream",
     "text": [
      "development : b'development'\n",
      "socket : b'socket'\n",
      "decorator : b'decorator'\n",
      "\n",
      "\n",
      "b'\\xd1\\x80\\xd0\\xb0\\xd0\\xb7\\xd1\\x80\\xd0\\xb0\\xd0\\xb1\\xd0\\xbe\\xd1\\x82\\xd0\\xba\\xd0\\xb0' : ÑÐ°Ð·ÑÐ°Ð±Ð¾ÑÐºÐ°\n",
      "b'\\xd1\\x81\\xd0\\xbe\\xd0\\xba\\xd0\\xb5\\xd1\\x82' : ÑÐ¾ÐºÐµÑ\n",
      "b'\\xd0\\xb4\\xd0\\xb5\\xd0\\xba\\xd0\\xbe\\xd1\\x80\\xd0\\xb0\\xd1\\x82\\xd0\\xbe\\xd1\\x80' : Ð´ÐµÐºÐ¾ÑÐ°ÑÐ¾Ñ\n",
      "b'development' : development\n",
      "b'socket' : socket\n",
      "b'decorator' : decorator\n"
     ]
    }
   ],
   "source": [
    "cod(1, list1) # latin-1 не поддерживает кирилицу"
   ]
  },
  {
   "cell_type": "markdown",
   "metadata": {},
   "source": [
    "# Выполнить пинг веб-ресурсов yandex.ru, youtube.com и преобразовать результаты из байтовового в строковый тип на кириллице."
   ]
  },
  {
   "cell_type": "code",
   "execution_count": 4,
   "metadata": {},
   "outputs": [],
   "source": [
    "import subprocess\n",
    "import chardet\n",
    "yandex = \"yandex.ru\"\n",
    "youtube = \"youtube.com\"\n",
    "def ping(hostname):\n",
    "    prog = subprocess.run([\"ping\", hostname], stdout=subprocess.PIPE)\n",
    "    bdata = prog.stdout\n",
    "    chardet.detect(bdata)\n",
    "    print (bdata.decode(\"IBM866\"))    "
   ]
  },
  {
   "cell_type": "code",
   "execution_count": 5,
   "metadata": {},
   "outputs": [
    {
     "name": "stdout",
     "output_type": "stream",
     "text": [
      "\r\n",
      "Обмен пакетами с yandex.ru [77.88.55.77] с 32 байтами данных:\r\n",
      "Ответ от 77.88.55.77: число байт=32 время=11мс TTL=57\r\n",
      "Ответ от 77.88.55.77: число байт=32 время=12мс TTL=57\r\n",
      "Ответ от 77.88.55.77: число байт=32 время=11мс TTL=57\r\n",
      "Ответ от 77.88.55.77: число байт=32 время=13мс TTL=57\r\n",
      "\r\n",
      "Статистика Ping для 77.88.55.77:\r\n",
      "    Пакетов: отправлено = 4, получено = 4, потеряно = 0\r\n",
      "    (0% потерь)\r\n",
      "Приблизительное время приема-передачи в мс:\r\n",
      "    Минимальное = 11мсек, Максимальное = 13 мсек, Среднее = 11 мсек\r\n",
      "\n"
     ]
    }
   ],
   "source": [
    "ping (yandex) # задание может быть полезно если указать пилинговку через subprocess,\n",
    "#тогда понадобится понять какую кождеровку использовать"
   ]
  },
  {
   "cell_type": "code",
   "execution_count": 6,
   "metadata": {},
   "outputs": [
    {
     "name": "stdout",
     "output_type": "stream",
     "text": [
      "\r\n",
      "Обмен пакетами с youtube.com [64.233.162.136] с 32 байтами данных:\r\n",
      "Ответ от 64.233.162.136: число байт=32 время=5мс TTL=47\r\n",
      "Ответ от 64.233.162.136: число байт=32 время=6мс TTL=47\r\n",
      "Ответ от 64.233.162.136: число байт=32 время=6мс TTL=47\r\n",
      "Ответ от 64.233.162.136: число байт=32 время=6мс TTL=47\r\n",
      "\r\n",
      "Статистика Ping для 64.233.162.136:\r\n",
      "    Пакетов: отправлено = 4, получено = 4, потеряно = 0\r\n",
      "    (0% потерь)\r\n",
      "Приблизительное время приема-передачи в мс:\r\n",
      "    Минимальное = 5мсек, Максимальное = 6 мсек, Среднее = 5 мсек\r\n",
      "\n"
     ]
    }
   ],
   "source": [
    "ping (youtube)"
   ]
  },
  {
   "cell_type": "code",
   "execution_count": null,
   "metadata": {},
   "outputs": [],
   "source": []
  }
 ],
 "metadata": {
  "kernelspec": {
   "display_name": "Python 3",
   "language": "python",
   "name": "python3"
  },
  "language_info": {
   "codemirror_mode": {
    "name": "ipython",
    "version": 3
   },
   "file_extension": ".py",
   "mimetype": "text/x-python",
   "name": "python",
   "nbconvert_exporter": "python",
   "pygments_lexer": "ipython3",
   "version": "3.7.1"
  }
 },
 "nbformat": 4,
 "nbformat_minor": 2
}
