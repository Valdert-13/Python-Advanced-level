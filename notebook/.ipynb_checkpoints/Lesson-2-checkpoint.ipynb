{
 "cells": [
  {
   "cell_type": "markdown",
   "metadata": {},
   "source": [
    "1. Реализовать скрипт для чтения/записи данных в формате csv;\n",
    "2. Реализовать скрипт для чтения/записи данных в формате json;\n",
    "3. Реализовать скрипт для чтения/записи данных в формате yaml;"
   ]
  },
  {
   "cell_type": "code",
   "execution_count": 7,
   "metadata": {},
   "outputs": [
    {
     "ename": "SyntaxError",
     "evalue": "invalid syntax (<ipython-input-7-5c10d258be67>, line 7)",
     "output_type": "error",
     "traceback": [
      "\u001b[1;36m  File \u001b[1;32m\"<ipython-input-7-5c10d258be67>\"\u001b[1;36m, line \u001b[1;32m7\u001b[0m\n\u001b[1;33m    {'header1':'data1', 'header2':'data2', 'header3':'data3', 'header4':'data4'}\u001b[0m\n\u001b[1;37m    ^\u001b[0m\n\u001b[1;31mSyntaxError\u001b[0m\u001b[1;31m:\u001b[0m invalid syntax\n"
     ]
    }
   ],
   "source": [
    "import csv\n",
    "import json\n",
    "import yaml\n",
    "\n",
    "data =  [\n",
    "    {'header1':'data1', 'header2':'data2', 'header3':'data3', 'header4':'data4'},\n",
    "    {'header1':'data1', 'header2':'data2', 'header3':'data3', 'header4':'data4'},\n",
    "    {'header1':'data1', 'header2':'data2', 'header3':'data3', 'header4':'data4'},\n",
    "    {'header1':'data1', 'header2':'data2', 'header3':'data3', 'header4':'data4'},\n",
    "    {'header1':'data1', 'header2':'data2', 'header3':'data3', 'header4':'data4'},\n",
    "    {'header1':'data1', 'header2':'data2', 'header3':'data3', 'header4':'data4'},\n",
    "    {'header1':'data1', 'header2':'data2', 'header3':'data3', 'header4':'data4'},\n",
    "    {'header1':'data1', 'header2':'data2', 'header3':'data3', 'header4':'data4'}\n",
    "]\n",
    "\n",
    "with open('data/wr.csv', 'w') as file:\n",
    "    writer = csv.writer(file)\n",
    "    for row in data:\n",
    "        writer.writerow(row)\n",
    "\n",
    "with open('data/wr.csv') as file:\n",
    "    reader = csv.reader(file)\n",
    "    for row in reader:\n",
    "        pprint(row)\n"
   ]
  },
  {
   "cell_type": "markdown",
   "metadata": {},
   "source": [
    "4. Реализовать скрипт для преобразования данных в формате csv в формат json;\n",
    "5. Реализовать скрипт для преобразования данных в формате csv в формат yaml;\n",
    "6. Реализовать скрипт для преобразования данных в формате json в формат yaml."
   ]
  },
  {
   "cell_type": "code",
   "execution_count": null,
   "metadata": {},
   "outputs": [],
   "source": [
    "import csv\n",
    "import json\n",
    "import yaml"
   ]
  }
 ],
 "metadata": {
  "kernelspec": {
   "display_name": "Python 3",
   "language": "python",
   "name": "python3"
  },
  "language_info": {
   "codemirror_mode": {
    "name": "ipython",
    "version": 3
   },
   "file_extension": ".py",
   "mimetype": "text/x-python",
   "name": "python",
   "nbconvert_exporter": "python",
   "pygments_lexer": "ipython3",
   "version": "3.6.5"
  }
 },
 "nbformat": 4,
 "nbformat_minor": 2
}
