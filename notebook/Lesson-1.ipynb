{
 "cells": [
  {
   "cell_type": "markdown",
   "metadata": {},
   "source": [
    "# 1. Реализовать приведение строк \"разработка\", \"сокет\", \"декоратор\" к типу bytes используя нативные методы строк;\n",
    "# 2. Реализовать приведение полученных экземпляров типа bytes к типу str;\n",
    "# 3. Реализовать приведение полученных строк и байтовых последовательностей с использование различных кодировок utf-8 latin-1."
   ]
  },
  {
   "cell_type": "code",
   "execution_count": 10,
   "metadata": {},
   "outputs": [],
   "source": [
    "code = ['utf-8', 'latin-1']\n",
    "list, bytes_list = [\"разработка\", \"сокет\", \"декоратор\"], []\n",
    "list1 = [\"development\", \"socket\", \"decorator\"]\n",
    "def cod (a, list):\n",
    "    for i in list:\n",
    "        print (i,  ':', i.encode(code[a]))\n",
    "        bytes_list.append(i.encode(code[a]))\n",
    "    print('\\n')\n",
    "    for i in bytes_list:\n",
    "        print (i,  ':', i.decode(code[a]))\n",
    "    #bytes_list.clear()"
   ]
  },
  {
   "cell_type": "code",
   "execution_count": 11,
   "metadata": {},
   "outputs": [
    {
     "name": "stdout",
     "output_type": "stream",
     "text": [
      "разработка : b'\\xd1\\x80\\xd0\\xb0\\xd0\\xb7\\xd1\\x80\\xd0\\xb0\\xd0\\xb1\\xd0\\xbe\\xd1\\x82\\xd0\\xba\\xd0\\xb0'\n",
      "сокет : b'\\xd1\\x81\\xd0\\xbe\\xd0\\xba\\xd0\\xb5\\xd1\\x82'\n",
      "декоратор : b'\\xd0\\xb4\\xd0\\xb5\\xd0\\xba\\xd0\\xbe\\xd1\\x80\\xd0\\xb0\\xd1\\x82\\xd0\\xbe\\xd1\\x80'\n",
      "\n",
      "\n",
      "b'\\xd1\\x80\\xd0\\xb0\\xd0\\xb7\\xd1\\x80\\xd0\\xb0\\xd0\\xb1\\xd0\\xbe\\xd1\\x82\\xd0\\xba\\xd0\\xb0' : разработка\n",
      "b'\\xd1\\x81\\xd0\\xbe\\xd0\\xba\\xd0\\xb5\\xd1\\x82' : сокет\n",
      "b'\\xd0\\xb4\\xd0\\xb5\\xd0\\xba\\xd0\\xbe\\xd1\\x80\\xd0\\xb0\\xd1\\x82\\xd0\\xbe\\xd1\\x80' : декоратор\n"
     ]
    }
   ],
   "source": [
    "cod(0, list)"
   ]
  },
  {
   "cell_type": "code",
   "execution_count": 12,
   "metadata": {},
   "outputs": [
    {
     "name": "stdout",
     "output_type": "stream",
     "text": [
      "development : b'development'\n",
      "socket : b'socket'\n",
      "decorator : b'decorator'\n",
      "\n",
      "\n",
      "b'\\xd1\\x80\\xd0\\xb0\\xd0\\xb7\\xd1\\x80\\xd0\\xb0\\xd0\\xb1\\xd0\\xbe\\xd1\\x82\\xd0\\xba\\xd0\\xb0' : ÑÐ°Ð·ÑÐ°Ð±Ð¾ÑÐºÐ°\n",
      "b'\\xd1\\x81\\xd0\\xbe\\xd0\\xba\\xd0\\xb5\\xd1\\x82' : ÑÐ¾ÐºÐµÑ\n",
      "b'\\xd0\\xb4\\xd0\\xb5\\xd0\\xba\\xd0\\xbe\\xd1\\x80\\xd0\\xb0\\xd1\\x82\\xd0\\xbe\\xd1\\x80' : Ð´ÐµÐºÐ¾ÑÐ°ÑÐ¾Ñ\n",
      "b'development' : development\n",
      "b'socket' : socket\n",
      "b'decorator' : decorator\n"
     ]
    }
   ],
   "source": [
    "cod(1, list1) # latin-1 не поддерживает кирилицу"
   ]
  },
  {
   "cell_type": "code",
   "execution_count": 20,
   "metadata": {},
   "outputs": [],
   "source": [
    "import os\n",
    "yandex = \"yandex.ru\"\n",
    "youtube = \"youtube.com\"\n",
    "def ping(hostname):\n",
    "    response = os.system(\"ping -c 1 \" + hostname)\n",
    "    print (response.decode('utf-8'))\n",
    "    if response == 0:\n",
    "      print (hostname, 'полет нормальный!')\n",
    "    else:\n",
    "      print (hostname, 'пока не доступен попробуйте позже!')"
   ]
  },
  {
   "cell_type": "code",
   "execution_count": 22,
   "metadata": {},
   "outputs": [
    {
     "name": "stdout",
     "output_type": "stream",
     "text": [
      "0\n",
      "yandex.ru полет нормальный!\n"
     ]
    }
   ],
   "source": [
    "ping (yandex) # может быть полезно для мессенджера"
   ]
  },
  {
   "cell_type": "code",
   "execution_count": 23,
   "metadata": {},
   "outputs": [
    {
     "name": "stdout",
     "output_type": "stream",
     "text": [
      "0\n",
      "youtube.com полет нормальный!\n"
     ]
    }
   ],
   "source": [
    "ping (youtube)"
   ]
  },
  {
   "cell_type": "code",
   "execution_count": null,
   "metadata": {},
   "outputs": [],
   "source": []
  }
 ],
 "metadata": {
  "kernelspec": {
   "display_name": "Python 3",
   "language": "python",
   "name": "python3"
  },
  "language_info": {
   "codemirror_mode": {
    "name": "ipython",
    "version": 3
   },
   "file_extension": ".py",
   "mimetype": "text/x-python",
   "name": "python",
   "nbconvert_exporter": "python",
   "pygments_lexer": "ipython3",
   "version": "3.7.1"
  }
 },
 "nbformat": 4,
 "nbformat_minor": 2
}
